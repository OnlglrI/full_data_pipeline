{
 "cells": [
  {
   "cell_type": "code",
   "execution_count": 114,
   "id": "8b0ae5c8-f220-458e-b512-022e0a591174",
   "metadata": {},
   "outputs": [
    {
     "name": "stdout",
     "output_type": "stream",
     "text": [
      "<class 'pandas.core.frame.DataFrame'>\n",
      "RangeIndex: 3066766 entries, 0 to 3066765\n",
      "Data columns (total 19 columns):\n",
      " #   Column                 Dtype         \n",
      "---  ------                 -----         \n",
      " 0   VendorID               int64         \n",
      " 1   tpep_pickup_datetime   datetime64[us]\n",
      " 2   tpep_dropoff_datetime  datetime64[us]\n",
      " 3   passenger_count        float64       \n",
      " 4   trip_distance          float64       \n",
      " 5   RatecodeID             float64       \n",
      " 6   store_and_fwd_flag     object        \n",
      " 7   PULocationID           int64         \n",
      " 8   DOLocationID           int64         \n",
      " 9   payment_type           int64         \n",
      " 10  fare_amount            float64       \n",
      " 11  extra                  float64       \n",
      " 12  mta_tax                float64       \n",
      " 13  tip_amount             float64       \n",
      " 14  tolls_amount           float64       \n",
      " 15  improvement_surcharge  float64       \n",
      " 16  total_amount           float64       \n",
      " 17  congestion_surcharge   float64       \n",
      " 18  airport_fee            float64       \n",
      "dtypes: datetime64[us](2), float64(12), int64(4), object(1)\n",
      "memory usage: 444.6+ MB\n"
     ]
    }
   ],
   "source": [
    "import pandas as pd\n",
    "df = pd.read_parquet(\"/home/user/Project_DE/ETL/yellow_tripdata_2023-01.parquet\")\n",
    "df.info()"
   ]
  },
  {
   "cell_type": "code",
   "execution_count": null,
   "id": "5671ef94-da6d-4686-86e7-26e834d58afa",
   "metadata": {},
   "outputs": [],
   "source": [
    "# 1 Task \n",
    "range_time = df[\"tpep_dropoff_datetime\"] - df[\"tpep_pickup_datetime\"]\n",
    "# print(range_time.agg([\"mean\",\"median\"]))\n",
    "\n",
    "# 2 Task\n",
    "# print(df.groupby(df[\"tpep_pickup_datetime\"].dt.hour)[\"VendorID\"].agg([\"count\"]).idxmax())\n",
    "\n",
    "# 3 Task\n",
    "# print(df.groupby(df[\"tpep_pickup_datetime\"].dt.weekday)[\"VendorID\"].agg([\"count\"]).idxmax())\n",
    "\n",
    "# 4 Task\n",
    "print(df.groupby(df[\"tpep_pickup_datetime\"].dt.month).mean())\n",
    "\n",
    "# 5 Task\n",
    "# print((range_time < pd.Timedelta(0)).sum())"
   ]
  }
 ],
 "metadata": {
  "kernelspec": {
   "display_name": "Python 3 (ipykernel)",
   "language": "python",
   "name": "python3"
  },
  "language_info": {
   "codemirror_mode": {
    "name": "ipython",
    "version": 3
   },
   "file_extension": ".py",
   "mimetype": "text/x-python",
   "name": "python",
   "nbconvert_exporter": "python",
   "pygments_lexer": "ipython3",
   "version": "3.10.18"
  }
 },
 "nbformat": 4,
 "nbformat_minor": 5
}
